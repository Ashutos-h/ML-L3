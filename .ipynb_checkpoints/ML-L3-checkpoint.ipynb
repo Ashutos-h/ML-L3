{
 "cells": [
  {
   "cell_type": "code",
   "execution_count": 1,
   "metadata": {},
   "outputs": [
    {
     "name": "stdout",
     "output_type": "stream",
     "text": [
      "P(B/A): 0.0303030303030303\n"
     ]
    }
   ],
   "source": [
    "class Probab:\n",
    "    def prob(self,x,y,z):\n",
    "        self.a=(z*y)/x\n",
    "        print(\"P(B/A):\",self.a)\n",
    "obj=Probab()\n",
    "obj.prob(11/36,6/36,2/36)\n",
    "\n"
   ]
  },
  {
   "cell_type": "code",
   "execution_count": 3,
   "metadata": {},
   "outputs": [
    {
     "name": "stdout",
     "output_type": "stream",
     "text": [
      "Enter number of white balls in Bag I: 4\n",
      "Enter number of black balls in Bag I: 6\n",
      "Enter number of white balls in Bag II: 4\n",
      "Enter number of black balls in Bag II: 3\n",
      "The probability that the black ball was drawn from Bag I: 0.5833333333333334\n"
     ]
    }
   ],
   "source": [
    "b1_w=int(input(\"Enter number of white balls in Bag I: \"))\n",
    "b1_b=int(input(\"Enter number of black balls in Bag I: \"))\n",
    "b2_w=int(input(\"Enter number of white balls in Bag II: \"))\n",
    "b2_b=int(input(\"Enter number of black balls in Bag II: \"))\n",
    "\n",
    "p_bob1=b1_b/(b1_w+b1_b)\n",
    "p_b1=0.5\n",
    "p_bob2=b2_b/(b2_w+b2_b)\n",
    "p_b2=0.5\n",
    "\n",
    "p_b1ob=(p_bob1*p_b1)/((p_bob1*p_b1)+(p_bob2*p_b2))\n",
    "print(\"The probability that the black ball was drawn from Bag I:\" ,p_b1ob)"
   ]
  },
  {
   "cell_type": "code",
   "execution_count": 8,
   "metadata": {},
   "outputs": [
    {
     "name": "stdout",
     "output_type": "stream",
     "text": [
      "Probability that Number obtained is actually a four: 0.28571428571428564\n"
     ]
    }
   ],
   "source": [
    "p_mt=(2/3)\n",
    "p_mf=1-p_mt\n",
    "p_4=1/6\n",
    "p_not4=1-p_4\n",
    "p_ans=(p_4*p_mt)/((p_4*p_mt)+(p_not4*p_mf))\n",
    "print(\"Probability that Number obtained is actually a four:\", p_ans)"
   ]
  },
  {
   "cell_type": "code",
   "execution_count": null,
   "metadata": {},
   "outputs": [],
   "source": []
  }
 ],
 "metadata": {
  "kernelspec": {
   "display_name": "Python 3",
   "language": "python",
   "name": "python3"
  },
  "language_info": {
   "codemirror_mode": {
    "name": "ipython",
    "version": 3
   },
   "file_extension": ".py",
   "mimetype": "text/x-python",
   "name": "python",
   "nbconvert_exporter": "python",
   "pygments_lexer": "ipython3",
   "version": "3.6.5"
  }
 },
 "nbformat": 4,
 "nbformat_minor": 2
}
